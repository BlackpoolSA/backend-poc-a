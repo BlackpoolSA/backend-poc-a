{
 "cells": [
  {
   "cell_type": "markdown",
   "id": "4537f813",
   "metadata": {},
   "source": [
    "## Document Processing"
   ]
  },
  {
   "cell_type": "code",
   "execution_count": 64,
   "id": "cff53f3d",
   "metadata": {},
   "outputs": [
    {
     "name": "stdout",
     "output_type": "stream",
     "text": [
      "Connection successful!\n"
     ]
    }
   ],
   "source": [
    "import sys\n",
    "import os\n",
    "from dotenv import load_dotenv\n",
    "\n",
    "import oracledb\n",
    "\n",
    "load_dotenv()\n",
    "\n",
    "# please update with your username, password, hostname and service_name\n",
    "username = os.getenv(\"DB_USER\")\n",
    "password = os.getenv(\"DB_PASSWORD\")\n",
    "dsn = os.getenv(\"DSN\")\n",
    "\n",
    "try:\n",
    "    conn = oracledb.connect(user=username, password=password, dsn=dsn)\n",
    "    print(\"Connection successful!\")\n",
    "except Exception as e:\n",
    "    print(\"Connection failed!\")\n",
    "    sys.exit(1)"
   ]
  },
  {
   "cell_type": "code",
   "execution_count": 36,
   "id": "6e51ef35",
   "metadata": {},
   "outputs": [
    {
     "name": "stdout",
     "output_type": "stream",
     "text": [
      "Table created and populated.\n"
     ]
    }
   ],
   "source": [
    "try:\n",
    "    cursor = conn.cursor()\n",
    "\n",
    "    drop_table_sql = \"\"\"drop table if exists demo_tab\"\"\"\n",
    "    cursor.execute(drop_table_sql)\n",
    "\n",
    "    create_table_sql = \"\"\"create table demo_tab (id number, data clob)\"\"\"\n",
    "    cursor.execute(create_table_sql)\n",
    "\n",
    "    insert_row_sql = \"\"\"insert into demo_tab values (:1, :2)\"\"\"\n",
    "    rows_to_insert = [\n",
    "        (\n",
    "            1,\n",
    "            \"If the answer to any preceding questions is yes, then the database stops the search and allocates space from the specified tablespace; otherwise, space is allocated from the database default shared temporary tablespace.\",\n",
    "        ),\n",
    "        (\n",
    "            2,\n",
    "            \"A tablespace can be online (accessible) or offline (not accessible) whenever the database is open.\\nA tablespace is usually online so that its data is available to users. The SYSTEM tablespace and temporary tablespaces cannot be taken offline.\",\n",
    "        ),\n",
    "        (\n",
    "            3,\n",
    "            \"The database stores LOBs differently from other data types. Creating a LOB column implicitly creates a LOB segment and a LOB index. The tablespace containing the LOB segment and LOB index, which are always stored together, may be different from the tablespace containing the table.\\nSometimes the database can store small amounts of LOB data in the table itself rather than in a separate LOB segment.\",\n",
    "        ),\n",
    "    ]\n",
    "    cursor.executemany(insert_row_sql, rows_to_insert)\n",
    "\n",
    "    conn.commit()\n",
    "\n",
    "    print(\"Table created and populated.\")\n",
    "    cursor.close()\n",
    "except Exception as e:\n",
    "    print(\"Table creation failed.\")\n",
    "    cursor.close()\n",
    "    conn.close()\n",
    "    sys.exit(1)"
   ]
  },
  {
   "cell_type": "code",
   "execution_count": 37,
   "id": "f8b92e19",
   "metadata": {},
   "outputs": [
    {
     "name": "stdout",
     "output_type": "stream",
     "text": [
      "Number of docs loaded: 1\n"
     ]
    }
   ],
   "source": [
    "from langchain_community.document_loaders.oracleai import OracleDocLoader\n",
    "from langchain_core.documents import Document\n",
    "\n",
    "\"\"\"\n",
    "# loading a local file\n",
    "loader_params = {}\n",
    "loader_params[\"file\"] = \"propuesta.pdf\"\n",
    "\"\"\"\n",
    "\n",
    "# loading from a local directory\n",
    "loader_params = {}\n",
    "loader_params[\"dir\"] = \"./files\"\n",
    "\n",
    "\"\"\"\n",
    "# loading from Oracle Database table\n",
    "loader_params = {\n",
    "    \"owner\": \"MYUSER\",\n",
    "    \"tablename\": \"demo_tab\",\n",
    "    \"colname\": \"data\",\n",
    "}\n",
    "\"\"\"\n",
    "\n",
    "\"\"\" load the docs \"\"\"\n",
    "loader = OracleDocLoader(conn=conn, params=loader_params)\n",
    "docs = loader.load()\n",
    "\n",
    "\"\"\" verify \"\"\"\n",
    "print(f\"Number of docs loaded: {len(docs)}\")\n",
    "# print(f\"Document-0: {docs[0].page_content}\") # content"
   ]
  },
  {
   "cell_type": "code",
   "execution_count": 38,
   "id": "74d468f3",
   "metadata": {},
   "outputs": [
    {
     "data": {
      "text/plain": [
       "[Document(metadata={'SOURCE MIME TYPE': 'application/pdf', 'creation date': '7/14/2025 05:01:14 PM', 'author': 'Secretaría', 'revision date': '7/14/2025 05:01:14 PM', 'Creator': '\\rMicrosoft® Word para Microsoft 365', 'publisher': 'Microsoft® Word para Microsoft 365', 'title': 'Formato de carta para la solicitud de evaluador y asesor para trabajo de semestre de industria', '_oid': '689c8f242ff846c871241aa4e554f671', '_file': './files\\\\propuesta.pdf'}, page_content=' \\n\\nFormato de carta para la solicitud de evaluador y asesor para trabajo de semestre de industria\\n\\n\\n\\n\\n\\n\\n\\n\\n\\n\\n\\n\\n\\n\\n\\n\\n\\n\\n\\n\\n\\nFacultad de Ingeniería\\n\\n\\n\\n\\n\\n\\n\\nCiudad Universitaria: \\n\\n\\n\\nCalle 67 N\\n\\n\\n\\no. \\n\\n\\n\\n53\\n\\n\\n\\n-\\n\\n\\n\\n108, bloque 21 • \\n\\n\\n\\nDirección de correspondencia: \\n\\n\\n\\nCalle 70 No 52\\n\\n\\n\\n-\\n\\n\\n\\n21\\n\\n\\n\\n\\n\\n\\n\\nTeléfono: \\n\\n\\n\\n219 55 02 • \\n\\n\\n\\nFax: \\n\\n\\n\\n263 82 82 • \\n\\n\\n\\nNit: \\n\\n\\n\\n890.980.040\\n\\n\\n\\n-\\n\\n\\n\\n8 • \\n\\n\\n\\nApartado: \\n\\n\\n\\n1226 \\n\\n\\n\\nhttp://ingenieria.udea.edu.co\\n\\n\\n\\n\\n\\n\\n\\n• Medellín, Colombia\\n\\n\\n\\n\\n\\n\\n\\n\\n\\n\\n\\nPropuesta\\n\\n\\n\\n\\n\\n\\n\\nModalidad: semestre de industria o práctica empresarial\\n\\n\\n\\n\\n\\n\\n\\nIdentificación del estudiante\\n\\n\\n\\n\\n\\n\\n\\nNombres y apellidos:\\n\\n\\n\\n\\n\\n\\n\\nJuan Martin Caicedo Ruiz\\n\\n\\n\\n\\n\\n\\n\\nDocumento de identidad:\\n\\n\\n\\n\\n\\n\\n\\n1238938492\\n\\n\\n\\n\\n\\n\\n\\nTeléfono:\\n\\n\\n\\n\\n\\n\\n\\n3209184805\\n\\n\\n\\n\\n\\n\\n\\nSemestre académico:\\n\\n\\n\\n\\n\\n\\n\\n10\\n\\n\\n\\n\\n\\n\\n\\nCorreo electrónico:\\n\\n\\n\\n\\n\\n\\n\\nMartin.caicedo@udea.edu.co\\n\\n\\n\\n\\n\\n\\n\\nFecha de inicio de actividades:\\n\\n\\n\\n\\n\\n\\n\\n22/01/2025\\n\\n\\n\\n\\n\\n\\n\\nFecha de entrega de la \\n\\n\\n\\npropuesta:\\n\\n\\n\\n\\n\\n\\n\\n14/03/2025\\n\\n\\n\\n\\n\\n\\n\\n\\n\\n\\n\\nIdentificación del asesor interno (U. de A.)\\n\\n\\n\\n\\n\\n\\n\\nNombres y apellidos:\\n\\n\\n\\n\\n\\n\\n\\nSebastian Isaza Ramirez\\n\\n\\n\\n\\n\\n\\n\\nTeléfono:\\n\\n\\n\\n\\n\\n\\n\\n\\n\\n\\n\\nOficina:\\n\\n\\n\\n\\n\\n\\n\\n\\n\\n\\n\\nCorreo electrónico:\\n\\n\\n\\n\\n\\n\\n\\nsebastian.isaza@udea.edu.co\\n\\n\\n\\n\\n\\n\\n\\n\\n\\n\\n\\nIdentificación del asesor externo (empresa)\\n\\n\\n\\n\\n\\n\\n\\nNombres y apellidos:\\n\\n\\n\\n\\n\\n\\n\\nSergio Nicolas Posada Chaparro\\n\\n\\n\\n\\n\\n\\n\\nTeléfono:\\n\\n\\n\\n\\n\\n\\n\\n3216482721\\n\\n\\n\\n\\n\\n\\n\\nDirección:\\n\\n\\n\\n\\n\\n\\n\\nMedellín \\n\\n\\n\\n-\\n\\n\\n\\n\\n\\n\\n\\nAntioquia\\n\\n\\n\\n\\n\\n\\n\\nCorreo electrónico:\\n\\n\\n\\n\\n\\n\\n\\nnicolas.posada@inter\\n\\n\\n\\n-\\n\\n\\n\\ntelco.com\\n\\n\\n\\n\\n\\n\\n\\nCargo:\\n\\n\\n\\n\\n\\n\\n\\n1.010.193.756\\n\\n\\n\\n\\n\\n\\n\\n\\n\\n\\n\\nIdentificación de la empresa\\n\\n\\n\\n\\n\\n\\n\\nNombre de la empresa:\\n\\n\\n\\n\\n\\n\\n\\nBlackpool\\n\\n\\n\\n\\n\\n\\n\\nDirección:\\n\\n\\n\\n\\n\\n\\n\\nCarrera 35 A 15 B 35 OF 212\\n\\n\\n\\n\\n\\n\\n\\nCiudad:\\n\\n\\n\\n\\n\\n\\n\\nMedellín\\n\\n\\n\\n\\n\\n\\n\\nTeléfono:\\n\\n\\n\\n\\n\\n\\n\\n317 3642391\\n\\n\\n\\n\\n\\n\\n\\nActividad económica:\\n\\n\\n\\n\\n\\n\\n\\nServicios de automatización de documentos\\n\\n\\n\\n\\n\\n\\n\\n\\n\\n\\n\\n\\n\\n\\n\\n\\n\\n\\n\\n\\n\\n\\n\\n\\n\\n\\n\\n\\n\\n\\n\\n\\n\\nFacultad de Ingeniería\\n\\n\\n\\n\\n\\n\\n\\nCiudad Universitaria: \\n\\n\\n\\nCalle 67 N\\n\\n\\n\\no. \\n\\n\\n\\n53\\n\\n\\n\\n-\\n\\n\\n\\n108, bloque 21 • \\n\\n\\n\\nDirección de correspondencia: \\n\\n\\n\\nCalle 70 No 52\\n\\n\\n\\n-\\n\\n\\n\\n21\\n\\n\\n\\n\\n\\n\\n\\nTeléfono: \\n\\n\\n\\n219 55 02 • \\n\\n\\n\\nFax: \\n\\n\\n\\n263 82 82 • \\n\\n\\n\\nNit: \\n\\n\\n\\n890.980.040\\n\\n\\n\\n-\\n\\n\\n\\n8 • \\n\\n\\n\\nApartado: \\n\\n\\n\\n1226 \\n\\n\\n\\nhttp://ingenieria.udea.edu.co\\n\\n\\n\\n\\n\\n\\n\\n• Medellín, Colombia\\n\\n\\n\\n\\n\\n\\n\\n\\n\\n\\n\\nPROCESAMIENTO AUTOMÁTICO DE FACTURAS\\n\\n\\n\\n\\n\\n\\n\\n\\n\\n\\n\\nIntroducción\\n\\n\\n\\n\\n\\n\\n\\nEl procesamiento de facturas, una tarea común y repetitiva en las empresas, es ideal \\n\\n\\n\\npara la automatización, pero muchas aún dependen del trabajo manual, lo que limita \\n\\n\\n\\nla escalabilidad y aumenta el riesgo de errores y costos operativos, especialmente \\n\\n\\n\\ncon el crecimiento del volumen de facturas. Esto se evidencia en casos donde la \\n\\n\\n\\nautomatización optimizó el procesamiento de miles de facturas anuales para \\n\\n\\n\\nBenchmark (Egberink, 2020), o donde el manejo manual de cientos de facturas \\n\\n\\n\\nmensuales generó ineficiencias (Suarez, 2024).\\n\\n\\n\\n\\n\\n\\n\\n\\n\\n\\n\\nBlackpool, especialista en RPA e IA, automatiza la gestión de documentos, \\n\\n\\n\\nincluyendo facturas, beneficiando a empresas como SuperPack, que procesa hasta \\n\\n\\n\\n200 facturas diarias en diversos formatos. La verificación manual de datos en su \\n\\n\\n\\nERP, SIESA, es una tarea exhaustiva y propensa a errores, lo que subraya la \\n\\n\\n\\nnecesidad de automatización.\\n\\n\\n\\n\\n\\n\\n\\n\\n\\n\\n\\nLa solución propuesta es una aplicación que automatiza el procesamiento de \\n\\n\\n\\nfacturas. Permite cargar facturas desde correo electrónico, identifica datos clave \\n\\n\\n\\nautomáticamente, y ejecuta la causación de facturas en el ERP del cliente mediante \\n\\n\\n\\nRPA, también, permitirá validar información y generar reportes e indicadores de \\n\\n\\n\\nrendimiento para visualizar la utilidad y el impacto en los procesos de facturación.\\n\\n\\n\\n\\n\\n\\n\\n\\n\\n\\n\\nObjetivos\\n\\n\\n\\n\\n\\n\\n\\nDesarrollar una aplicación web de procesamiento automático de facturas que \\n\\n\\n\\noptimice la gestión contable de las empresas mediante la extracción automática de \\n\\n\\n\\ndatos, validación y causación en sistemas ERP, reduciendo errores, costos \\n\\n\\n\\noperativos y mejorando el flujo de caja\\n\\n\\n\\n\\n\\n\\n\\n.\\n\\n\\n\\n\\n\\n\\n\\n•\\n\\n\\n\\n\\n\\n\\n\\nDesarrollar front\\n\\n\\n\\n-\\n\\n\\n\\nend con Vue.js que permita visualizar e interactuar con el \\n\\n\\n\\ncargue de factura, su estado y su información.\\n\\n\\n\\n\\n\\n\\n\\n•\\n\\n\\n\\n\\n\\n\\n\\nDesarrollar back\\n\\n\\n\\n-\\n\\n\\n\\nend con Flask que permita la conexión con una base de \\n\\n\\n\\ndatos para almacenar y leer información extraída de facturas electrónicas.\\n\\n\\n\\n\\n\\n\\n\\n•\\n\\n\\n\\n\\n\\n\\n\\nDesarrollar un módulo web que automatice la extracción y el procesamiento \\n\\n\\n\\nde datos clave desde archivos PDF, XML e imágenes, empleando \\n\\n\\n\\nprogramación Python, OCR e Inteligencia Artificial generativa.\\n\\n\\n\\n\\n\\n\\n\\n•\\n\\n\\n\\n\\n\\n\\n\\nDesarrollar un RPA capaz de navegar en la ERP SIESA y de verificar su \\n\\n\\n\\ninformación con respecto a los datos de las facturas y reglas de negocio.\\n\\n\\n\\n\\n\\n\\n\\n•\\n\\n\\n\\n\\n\\n\\n\\nImplementar un módulo web para la validación de datos y la generación de \\n\\n\\n\\nreportes de eficiencia basados en KPIs.\\n\\n\\n\\n\\n\\n\\n\\n\\n\\n\\n\\n\\n\\n\\n\\n\\n\\n\\n\\n\\n\\n\\n\\n\\n\\n\\n\\n\\n\\nFacultad de Ingeniería\\n\\n\\n\\n\\n\\n\\n\\nCiudad Universitaria: \\n\\n\\n\\nCalle 67 N\\n\\n\\n\\no. \\n\\n\\n\\n53\\n\\n\\n\\n-\\n\\n\\n\\n108, bloque 21 • \\n\\n\\n\\nDirección de correspondencia: \\n\\n\\n\\nCalle 70 No 52\\n\\n\\n\\n-\\n\\n\\n\\n21\\n\\n\\n\\n\\n\\n\\n\\nTeléfono: \\n\\n\\n\\n219 55 02 • \\n\\n\\n\\nFax: \\n\\n\\n\\n263 82 82 • \\n\\n\\n\\nNit: \\n\\n\\n\\n890.980.040\\n\\n\\n\\n-\\n\\n\\n\\n8 • \\n\\n\\n\\nApartado: \\n\\n\\n\\n1226 \\n\\n\\n\\nhttp://ingenieria.udea.edu.co\\n\\n\\n\\n\\n\\n\\n\\n• Medellín, Colombia\\n\\n\\n\\n\\n\\n\\n\\n\\n\\n\\n\\n•\\n\\n\\n\\n\\n\\n\\n\\nDiseñar e implementar una metodología para evaluar la confiabilidad del \\n\\n\\n\\nsistema mediante pruebas controladas con facturas, validación manual de \\n\\n\\n\\ndatos extraídos, verificación en el ERP SIESA y generación de reportes sobre \\n\\n\\n\\nexcepciones en la causación.\\n\\n\\n\\n\\n\\n\\n\\n\\n\\n\\n\\nMarco teórico\\n\\n\\n\\n\\n\\n\\n\\nERP\\n\\n\\n\\n. Significa \"Enterprise Resource Planning\" y son sistemas integrales que \\n\\n\\n\\nautomatizan la gestión de finanzas, recursos y logística. En estas se puede \\n\\n\\n\\nvisualizar los procedimientos claves de la empresa de manera unificada, lo cual \\n\\n\\n\\nfacilita una gestión informada, estrategia y eficiencia. (Zegarra, 2024).\\n\\n\\n\\n\\n\\n\\n\\n\\n\\n\\n\\nSiesa es una compañía colombiana líder en soluciones tecnológicas empresariales, \\n\\n\\n\\nreconocida por su software ERP \\'Enterprise\\'. Esta plataforma integral permite a las \\n\\n\\n\\nempresas centralizar y gestionar diversas áreas, incluyendo la gestión comercial, \\n\\n\\n\\nfinanciera, manufacturera.\\n\\n\\n\\n\\n\\n\\n\\n\\n\\n\\n\\nLa empresa en cuestión requiere optimizar su gestión comercial mediante la \\n\\n\\n\\nautomatización de procesos dentro de Siesa. Dado que el ERP está desarrollado \\n\\n\\n\\ncon tecnologías web, es posible implementar un software de Automatización \\n\\n\\n\\nRobótica de Procesos (RPA) para navegar y manipular la plataforma a través de la \\n\\n\\n\\nidentificación y uso de elementos JavaScript, como XPaths e IDs, lo que permitirá \\n\\n\\n\\nrealizar verificaciones y ejecutar acciones automatizadas de manera eficiente.\\n\\n\\n\\n\\n\\n\\n\\n\\n\\n\\n\\nRPA\\n\\n\\n\\n. Significa \"Robotic Process Automation\" y se puede entender como un método, \\n\\n\\n\\nsistema y método contenido en un software que puede automatizar procesos \\n\\n\\n\\nmanuales (Fernández & Aman, 2018). En este trabajo se usará como un sistema de \\n\\n\\n\\nautomatización de procesos de negocios, específicamente, en la radicación de \\n\\n\\n\\nfacturas.\\n\\n\\n\\n\\n\\n\\n\\n\\n\\n\\n\\nRocketbot es una empresa especializada en la oferta de soluciones de \\n\\n\\n\\nAutomatización Robótica de Procesos (RPA). Su software, desarrollado en Python, \\n\\n\\n\\ndestaca por su interfaz de programación visual e intuitiva, basada en la \\n\\n\\n\\nconcatenación de bloques o módulos funcionales. Esta metodología permite a los \\n\\n\\n\\nusuarios diseñar y desplegar bots para automatizar una amplia gama de tareas, \\n\\n\\n\\nincluyendo:\\n\\n\\n\\n\\n\\n\\n\\n•\\n\\n\\n\\n\\n\\n\\n\\nNavegación web y de escritorio.\\n\\n\\n\\n\\n\\n\\n\\n•\\n\\n\\n\\n\\n\\n\\n\\nGestión de variables y datos.\\n\\n\\n\\n\\n\\n\\n\\n•\\n\\n\\n\\n\\n\\n\\n\\nEjecución de scripts en diversos lenguajes (Python, JavaScript, Visual Basic, \\n\\n\\n\\nPowerShell).\\n\\n\\n\\n\\n\\n\\n\\n•\\n\\n\\n\\n\\n\\n\\n\\nImplementación de \"sub\\n\\n\\n\\n-\\n\\n\\n\\nbots\" para automatizaciones modulares.\\n\\n\\n\\n\\n\\n\\n\\n•\\n\\n\\n\\n\\n\\n\\n\\nManejo de archivos y bases de datos.\\n\\n\\n\\n\\n\\n\\n\\n\\n\\n\\n\\n\\n\\n\\n\\n\\n\\n\\n\\n\\n\\n\\n\\n\\n\\n\\n\\n\\n\\nFacultad de Ingeniería\\n\\n\\n\\n\\n\\n\\n\\nCiudad Universitaria: \\n\\n\\n\\nCalle 67 N\\n\\n\\n\\no. \\n\\n\\n\\n53\\n\\n\\n\\n-\\n\\n\\n\\n108, bloque 21 • \\n\\n\\n\\nDirección de correspondencia: \\n\\n\\n\\nCalle 70 No 52\\n\\n\\n\\n-\\n\\n\\n\\n21\\n\\n\\n\\n\\n\\n\\n\\nTeléfono: \\n\\n\\n\\n219 55 02 • \\n\\n\\n\\nFax: \\n\\n\\n\\n263 82 82 • \\n\\n\\n\\nNit: \\n\\n\\n\\n890.980.040\\n\\n\\n\\n-\\n\\n\\n\\n8 • \\n\\n\\n\\nApartado: \\n\\n\\n\\n1226 \\n\\n\\n\\nhttp://ingenieria.udea.edu.co\\n\\n\\n\\n\\n\\n\\n\\n• Medellín, Colombia\\n\\n\\n\\n\\n\\n\\n\\n\\n\\n\\n\\n\\n\\n\\n\\nPara entornos de producción, Rocketbot ofrece su licencia \"On premise\", que \\n\\n\\n\\nproporciona acceso a la plataforma web Rocketbot Orchestrator. Esta plataforma \\n\\n\\n\\npermite la ejecución local y desatendida de bots, requiriendo únicamente la licencia y \\n\\n\\n\\nun bot previamente desarrollado y funcional. Además, Rocketbot Orchestrator facilita \\n\\n\\n\\nla programación de ejecuciones periódicas personalizadas, permitiendo a los \\n\\n\\n\\nusuarios definir los tiempos, días y horas de ejecución.\\n\\n\\n\\n\\n\\n\\n\\n\\n\\n\\n\\n\\n\\n\\n\\nAPI\\n\\n\\n\\n. Por sus siglas en inglés significa \"Aplication Programming Interface\" y se puede \\n\\n\\n\\nentender como un software que hace de intermediario entre una base de datos y \\n\\n\\n\\naplicaciones. Las aplicaciones solicitan servicios o información a la base de datos a \\n\\n\\n\\ntravés de la API. (García, 2024).\\n\\n\\n\\n\\n\\n\\n\\n\\n\\n\\n\\nPara garantizar un flujo de información eficiente entre los diversos módulos de la \\n\\n\\n\\naplicación, se desarrollará una API. Esta API permitirá la transferencia de datos \\n\\n\\n\\ndesde la base de datos de facturas hacia la interfaz de usuario, donde serán \\n\\n\\n\\nvisualizados. Asimismo, establecerá la conexión necesaria con el módulo de RPA, \\n\\n\\n\\nhabilitando la utilización de los datos procesados para la toma de decisiones \\n\\n\\n\\nestratégicas.\\n\\n\\n\\n\\n\\n\\n\\n\\n\\n\\n\\nFactura Electrónica\\n\\n\\n\\n. Documento digital esencial en el ámbito empresarial, optimiza \\n\\n\\n\\nla gestión financiera a través de la automatización de procesos y la reducción de \\n\\n\\n\\ncostos. Su implementación es clave para mejorar la eficiencia y la seguridad en las \\n\\n\\n\\noperaciones financieras de las empresas, a la vez que: agiliza los procesos de \\n\\n\\n\\nreembolso y cumplimiento fiscal, fortalece la seguridad del entorno económico de las \\n\\n\\n\\nempresas mediante el desarrollo de sistemas de facturación electrónica robustos y la \\n\\n\\n\\nmonitorización de actividades inusuales. (Zegarra, 2024)\\n\\n\\n\\n\\n\\n\\n\\n\\n\\n\\n\\nIA generativa. \\n\\n\\n\\nLa inteligencia artificial (IA) se refiere a la capacidad de las máquinas \\n\\n\\n\\npara simular la inteligencia humana, utilizando algoritmos probabilísticos entrenados \\n\\n\\n\\ncon grandes volúmenes de datos. La IA generativa (IAG) se especializa en la \\n\\n\\n\\ncreación de contenido nuevo, empleando modelos de lenguaje de gran escala (LLM) \\n\\n\\n\\nque generan respuestas a partir de diversas entradas, ajustándose a probabilidades \\n\\n\\n\\nestablecidas por el entrenamiento (Suarez, 2024). Esto permite a las máquinas \\n\\n\\n\\nrealizar tareas complejas que antes requerían intervención humana, desde la \\n\\n\\n\\nclasificación de datos hasta la generación de contenido multimedia.\\n\\n\\n\\n\\n\\n\\n\\n\\n\\n\\n\\nEn el contexto del procesamiento de facturas, la IAG se ha convertido en una \\n\\n\\n\\nherramienta esencial para superar las limitaciones del reconocimiento óptico de \\n\\n\\n\\ncaracteres (OCR). Mientras que el OCR extrae texto de documentos, la IAG \\n\\n\\n\\n\\n\\n\\n\\n\\n\\n\\n\\n\\n\\n\\n\\n\\n\\n\\n\\n\\n\\n\\n\\n\\n\\nFacultad de Ingeniería\\n\\n\\n\\n\\n\\n\\n\\nCiudad Universitaria: \\n\\n\\n\\nCalle 67 N\\n\\n\\n\\no. \\n\\n\\n\\n53\\n\\n\\n\\n-\\n\\n\\n\\n108, bloque 21 • \\n\\n\\n\\nDirección de correspondencia: \\n\\n\\n\\nCalle 70 No 52\\n\\n\\n\\n-\\n\\n\\n\\n21\\n\\n\\n\\n\\n\\n\\n\\nTeléfono: \\n\\n\\n\\n219 55 02 • \\n\\n\\n\\nFax: \\n\\n\\n\\n263 82 82 • \\n\\n\\n\\nNit: \\n\\n\\n\\n890.980.040\\n\\n\\n\\n-\\n\\n\\n\\n8 • \\n\\n\\n\\nApartado: \\n\\n\\n\\n1226 \\n\\n\\n\\nhttp://ingenieria.udea.edu.co\\n\\n\\n\\n\\n\\n\\n\\n• Medellín, Colombia\\n\\n\\n\\n\\n\\n\\n\\n\\n\\n\\n\\nidentifica y organiza información clave en facturas complejas, como datos del cliente, \\n\\n\\n\\nremitente, productos y precios. Al analizar el contexto y la estructura de los \\n\\n\\n\\ndocumentos, la IAG permite una extracción precisa y eficiente de información, \\n\\n\\n\\nincluso en formatos variados y desestructurados.\\n\\n\\n\\n\\n\\n\\n\\n\\n\\n\\n\\nKPIS\\n\\n\\n\\n. Significa \"Key Performance Indicators\" y como su nombre lo sugiere, son \\n\\n\\n\\nmétricas usadas para evaluar el progreso o éxito de alguna organización o proceso. \\n\\n\\n\\nSe caracterizan por ser medibles, específicas y con plazos definidos. En el contexto \\n\\n\\n\\nde las facturas electrónicas (Egberink, 2020) definen 3 métricas:\\n\\n\\n\\n\\n\\n\\n\\n\\n\\n\\n\\n1.\\n\\n\\n\\n\\n\\n\\n\\nTiempo de ciclo de proceso de contabilización y \\n\\n\\n\\naprobación. Es\\n\\n\\n\\n\\n\\n\\n\\nel tiempo que \\n\\n\\n\\ntarda una factura es ser contabilizada y aprobada\\n\\n\\n\\n\\n\\n\\n\\n2. Tasa de descuentos obtenidos. Son descuentos obtenidos por un ciclo de \\n\\n\\n\\nproceso corto, pues se pueden llegar a obtener descuentos con el pago \\n\\n\\n\\noportuno de las facturas\\n\\n\\n\\n\\n\\n\\n\\n3. Tasa de excepciones. Mide las discrepancias de las facturas, como diferencia \\n\\n\\n\\nde montos de la factura y las órdenes de compra.\\n\\n\\n\\n\\n\\n\\n\\n\\n\\n\\n\\nMetodología\\n\\n\\n\\n\\n\\n\\n\\nLa metodología por seguir está divida en 6 componente detallados a continuación.\\n\\n\\n\\n\\n\\n\\n\\n\\n\\n\\n\\n1. Investigación y planeación\\n\\n\\n\\n\\n\\n\\n\\n•\\n\\n\\n\\nPlanteamiento de introducción, marco teórico y objetivos \\n\\n\\n\\n\\n\\n\\n\\n•\\n\\n\\n\\nCronograma de actividades \\n\\n\\n\\n\\n\\n\\n\\n•\\n\\n\\n\\nSelección de tecnologías\\n\\n\\n\\n\\n\\n\\n\\n•\\n\\n\\n\\nDiagrama de arquitectura de software \\n\\n\\n\\n\\n\\n\\n\\n•\\n\\n\\n\\nMockup de aplicación\\n\\n\\n\\n\\n\\n\\n\\n•\\n\\n\\n\\nResultados esperados y resultados\\n\\n\\n\\n\\n\\n\\n\\n\\n\\n\\n\\n2. Módulo de Ingesta de Facturas \\n\\n\\n\\n\\n\\n\\n\\n•\\n\\n\\n\\nFront-end para carga de factura via Gmail.\\n\\n\\n\\n\\n\\n\\n\\n•\\n\\n\\n\\nBack-end para almacenamiento de archivos en carpeta local y base de \\n\\n\\n\\ndatos local\\n\\n\\n\\n\\n\\n\\n\\n3. Módulo de Extracción de Datos \\n\\n\\n\\n\\n\\n\\n\\n•\\n\\n\\n\\nIdentificación automática del tipo de archivo (PDF, XML, imagen) \\n\\n\\n\\n\\n\\n\\n\\n•\\n\\n\\n\\nLectura XML\\n\\n\\n\\n\\n\\n\\n\\n•\\n\\n\\n\\nOCR para lectura de imágenes y PDFs \\n\\n\\n\\n\\n\\n\\n\\n•\\n\\n\\n\\nIA generativa para extracción de datos en facturas complejas \\n\\n\\n\\n\\n\\n\\n\\n•\\n\\n\\n\\nValidación y normalización de datos\\n\\n\\n\\n\\n\\n\\n\\n•\\n\\n\\n\\nImplementación en servidor.\\n\\n\\n\\n\\n\\n\\n\\n4. Módulo de Integración con ERP \\n\\n\\n\\n\\n\\n\\n\\n\\n\\n\\n\\n\\n\\n\\n\\n\\n\\n\\n\\n\\n\\n\\n\\n\\n\\n\\n\\n\\n\\nFacultad de Ingeniería\\n\\n\\n\\n\\n\\n\\n\\nCiudad Universitaria: \\n\\n\\n\\nCalle 67 N\\n\\n\\n\\no. \\n\\n\\n\\n53\\n\\n\\n\\n-\\n\\n\\n\\n108, bloque 21 • \\n\\n\\n\\nDirección de correspondencia: \\n\\n\\n\\nCalle 70 No 52\\n\\n\\n\\n-\\n\\n\\n\\n21\\n\\n\\n\\n\\n\\n\\n\\nTeléfono: \\n\\n\\n\\n219 55 02 • \\n\\n\\n\\nFax: \\n\\n\\n\\n263 82 82 • \\n\\n\\n\\nNit: \\n\\n\\n\\n890.980.040\\n\\n\\n\\n-\\n\\n\\n\\n8 • \\n\\n\\n\\nApartado: \\n\\n\\n\\n1226 \\n\\n\\n\\nhttp://ingenieria.udea.edu.co\\n\\n\\n\\n\\n\\n\\n\\n• Medellín, Colombia\\n\\n\\n\\n\\n\\n\\n\\n\\n\\n\\n\\n•\\n\\n\\n\\n\\n\\n\\n\\nIntegración vía RPA para sistemas sin APIs\\n\\n\\n\\n\\n\\n\\n\\n•\\n\\n\\n\\n\\n\\n\\n\\n\\n\\n\\n\\nValidaciones automáticas: fecha, NIT, centro de costos, orden de compra \\n\\n\\n\\n\\n\\n\\n\\n5.\\n\\n\\n\\n\\n\\n\\n\\nMódulo de Reportes y dashboard \\n\\n\\n\\n\\n\\n\\n\\n•\\n\\n\\n\\n\\n\\n\\n\\nDesarrollo front\\n\\n\\n\\n-\\n\\n\\n\\nend para:\\n\\n\\n\\n\\n\\n\\n\\n•\\n\\n\\n\\n\\n\\n\\n\\nAlertas de inconsistencias \\n\\n\\n\\n\\n\\n\\n\\n•\\n\\n\\n\\n\\n\\n\\n\\nPanel de revisiones manuales\\n\\n\\n\\n\\n\\n\\n\\n•\\n\\n\\n\\n\\n\\n\\n\\nEstado de facturas procesadas / en espera / con error \\n\\n\\n\\n\\n\\n\\n\\n•\\n\\n\\n\\n\\n\\n\\n\\nTiempos promedio de procesamiento \\n\\n\\n\\n\\n\\n\\n\\n•\\n\\n\\n\\n\\n\\n\\n\\nImpacto en la contabilidad\\n\\n\\n\\n\\n\\n\\n\\n\\n\\n\\n\\nCada uno de estos puntos se seguirá de manera secuencial y para interconectar los \\n\\n\\n\\nmódulos con front\\n\\n\\n\\n-\\n\\n\\n\\nend con el back\\n\\n\\n\\n-\\n\\n\\n\\nend se utilizará una arquitectura RESFTful, \\n\\n\\n\\nutilizando comando HTTP estándar y archivos .json para la transferencia de datos. \\n\\n\\n\\nPor otro lado, la incorporación de sistema de RPA se puede hacer directamente con \\n\\n\\n\\nla conexión a la base de datos local, y así, cuando el front\\n\\n\\n\\n-\\n\\n\\n\\nend requiera lo datos del \\n\\n\\n\\nRPA se comunicará con el back\\n\\n\\n\\n-\\n\\n\\n\\nend para que extraiga la información de la base de \\n\\n\\n\\ndatos.\\n\\n\\n\\n\\n\\n\\n\\n\\n\\n\\n\\nPara asegurar la validación integral del funcionamiento, se realizarán pruebas \\n\\n\\n\\nfuncionales exhaustivas en cada módulo, simulando diversas situaciones de uso que \\n\\n\\n\\nse presente tanto en la aplicación web como en la iteración del RPA dentro del ERP, \\n\\n\\n\\npara último el cliente facilitara un entorno de pruebas para evitar cualquier causación \\n\\n\\n\\nno deseada. Adicionalmente, se llevarán a cabo validaciones conjuntas con el cliente \\n\\n\\n\\npara confirmar que la solución cumple con sus expectativas y requerimientos \\n\\n\\n\\nespecíficos.\\n\\n\\n\\n\\n\\n\\n\\n\\n\\n\\n\\n\\n\\n\\n\\n\\n\\n\\n\\n\\n\\n\\n\\n\\n\\n\\n\\n\\n\\n\\n\\n\\n\\n\\n\\n\\n\\n\\n\\n\\n\\n\\n\\n\\n\\n\\n\\n\\n\\n\\n\\n\\n\\n\\n\\n\\n\\n\\n\\n\\n\\n\\n\\n\\n\\n\\n\\n\\n\\n\\n\\n\\n\\n\\n\\n\\n\\n\\n\\n\\n\\n\\n\\n\\n\\n\\n\\n\\n\\n\\n\\n\\n\\nFacultad de Ingeniería\\n\\n\\n\\n\\n\\n\\n\\nCiudad Universitaria: \\n\\n\\n\\nCalle 67 N\\n\\n\\n\\no. \\n\\n\\n\\n53\\n\\n\\n\\n-\\n\\n\\n\\n108, bloque 21 • \\n\\n\\n\\nDirección de correspondencia: \\n\\n\\n\\nCalle 70 No 52\\n\\n\\n\\n-\\n\\n\\n\\n21\\n\\n\\n\\n\\n\\n\\n\\nTeléfono: \\n\\n\\n\\n219 55 02 • \\n\\n\\n\\nFax: \\n\\n\\n\\n263 82 82 • \\n\\n\\n\\nNit: \\n\\n\\n\\n890.980.040\\n\\n\\n\\n-\\n\\n\\n\\n8 • \\n\\n\\n\\nApartado: \\n\\n\\n\\n1226 \\n\\n\\n\\nhttp://ingenieria.udea.edu.co\\n\\n\\n\\n\\n\\n\\n\\n• Medellín, Colombia\\n\\n\\n\\n\\n\\n\\n\\n\\n\\n\\n\\nCronograma de actividades\\n\\n\\n\\n\\n\\n\\n\\nEl cronograma de la imagen 1 contiene las actividades especificadas en la \\n\\n\\n\\nmetodología con los tiempos en semana, donde se especifica la semana en la que \\n\\n\\n\\ninicia y su duración.\\n\\n\\n\\n\\n\\n\\n\\n\\n\\n\\n\\nImagen 1. Cronograma de actividades\\n\\n\\n\\n\\n\\n\\n\\n\\n\\n\\n\\nResultados esperados\\n\\n\\n\\n\\n\\n\\n\\n\\n\\n\\n\\nPara con la empresa se pretende entregar una aplicación con su respectiva \\n\\n\\n\\ndocumentación de la cual se espera poder impactar en los tiempos de \\n\\n\\n\\nprocesamiento en la causación de facturas de SuperPack libre de errores humano. \\n\\n\\n\\nTambién, permitirle a la empresa tener una contabilidad actualizada y escalable, \\n\\n\\n\\ndonde cada día donde llegue sus pedidos e independientemente del número de \\n\\n\\n\\nestos, el reporte de la causación esté listo al final de cada día.\\n\\n\\n\\n\\n\\n\\n\\n\\n\\n\\n\\n\\n\\n\\n\\n\\n\\n\\n\\n\\n\\n\\n\\n\\n\\n\\n\\n\\n\\n\\n\\n\\n\\n\\n\\nPERIODOS\\n\\n\\n\\n1 \\n\\n\\n\\n2 \\n\\n\\n\\n3 \\n\\n\\n\\n4 \\n\\n\\n\\n5 \\n\\n\\n\\n6 \\n\\n\\n\\n7 \\n\\n\\n\\n8 \\n\\n\\n\\n9 \\n\\n\\n\\n10 \\n\\n\\n\\n11 \\n\\n\\n\\n12 \\n\\n\\n\\n13 \\n\\n\\n\\n14 \\n\\n\\n\\n15 \\n\\n\\n\\n16 \\n\\n\\n\\n17 \\n\\n\\n\\n18 \\n\\n\\n\\n19 \\n\\n\\n\\n20 \\n\\n\\n\\n21 \\n\\n\\n\\n22 \\n\\n\\n\\n23 \\n\\n\\n\\n24 \\n\\n\\n\\n25 \\n\\n\\n\\n26\\n\\n\\n\\nIntroducción, marco \\n\\n\\n\\ntéorica y objetivos \\n\\n\\n\\n1 \\n\\n\\n\\n2\\n\\n\\n\\nCronograma de \\n\\n\\n\\nactividades \\n\\n\\n\\n1 \\n\\n\\n\\n3\\n\\n\\n\\nSelección tecnologías\\n\\n\\n\\n4 \\n\\n\\n\\n2\\n\\n\\n\\nArquictectura de \\n\\n\\n\\nsoftware \\n\\n\\n\\n3 \\n\\n\\n\\n1\\n\\n\\n\\nMockup\\n\\n\\n\\n5 \\n\\n\\n\\n1\\n\\n\\n\\nResultados esperados \\n\\n\\n\\ny presupuesto\\n\\n\\n\\n6 \\n\\n\\n\\n1\\n\\n\\n\\nFront-end para carga \\n\\n\\n\\nde factura via Gmail \\n\\n\\n\\n7 \\n\\n\\n\\n3\\n\\n\\n\\nBack-end \\n\\n\\n\\nalmacenamiento de \\n\\n\\n\\narchivos \\n\\n\\n\\n10 \\n\\n\\n\\n3\\n\\n\\n\\nIntegración vía RPA \\n\\n\\n\\n13 \\n\\n\\n\\n5\\n\\n\\n\\nValidaciones\\n\\n\\n\\n17 \\n\\n\\n\\n2\\n\\n\\n\\nEstado de facturas y \\n\\n\\n\\nalerta \\n\\n\\n\\n19 \\n\\n\\n\\n2\\n\\n\\n\\nTiempos de \\n\\n\\n\\nprocesamiento \\n\\n\\n\\n21 \\n\\n\\n\\n1\\n\\n\\n\\nImpacto en \\n\\n\\n\\ncontabilidad \\n\\n\\n\\n22 \\n\\n\\n\\n1\\n\\n\\n\\nMÓDULO DE \\n\\n\\n\\nREPORTES Y \\n\\n\\n\\nDASHBOARD\\n\\n\\n\\nINVESTIGACIÓN Y \\n\\n\\n\\nPLANEACIÓN\\n\\n\\n\\nMÓDULO DE \\n\\n\\n\\nINGESTA DE \\n\\n\\n\\nFACTURAS\\n\\n\\n\\nMÓDULO \\n\\n\\n\\nINTEGRACIÓN RPA\\n\\n\\n\\nACTIVIDAD \\n\\n\\n\\nINICIO DEL PLAN\\n\\n\\n\\nDURACIÓN DEL \\n\\n\\n\\nPLAN\\n\\n\\n\\n\\n\\n\\n\\n\\n\\n\\n\\n\\n\\n\\n\\n\\n\\n\\n\\n\\n\\n\\n\\n\\n\\nFacultad de Ingeniería\\n\\n\\n\\n\\n\\n\\n\\nCiudad Universitaria: \\n\\n\\n\\nCalle 67 N\\n\\n\\n\\no. \\n\\n\\n\\n53\\n\\n\\n\\n-\\n\\n\\n\\n108, bloque 21 • \\n\\n\\n\\nDirección de correspondencia: \\n\\n\\n\\nCalle 70 No 52\\n\\n\\n\\n-\\n\\n\\n\\n21\\n\\n\\n\\n\\n\\n\\n\\nTeléfono: \\n\\n\\n\\n219 55 02 • \\n\\n\\n\\nFax: \\n\\n\\n\\n263 82 82 • \\n\\n\\n\\nNit: \\n\\n\\n\\n890.980.040\\n\\n\\n\\n-\\n\\n\\n\\n8 • \\n\\n\\n\\nApartado: \\n\\n\\n\\n1226 \\n\\n\\n\\nhttp://ingenieria.udea.edu.co\\n\\n\\n\\n\\n\\n\\n\\n• Medellín, Colombia\\n\\n\\n\\n\\n\\n\\n\\n\\n\\n\\n\\nPresupuesto\\n\\n\\n\\n\\n\\n\\n\\n\\n\\n\\n\\nCategoría\\n\\n\\n\\n\\n\\n\\n\\nDescripción\\n\\n\\n\\n\\n\\n\\n\\nCosto Unitario \\n\\n\\n\\n[COP]\\n\\n\\n\\n\\n\\n\\n\\nCantidad\\n\\n\\n\\n\\n\\n\\n\\nCosto Total \\n\\n\\n\\n[COP]\\n\\n\\n\\n\\n\\n\\n\\nRecurso Humanos\\n\\n\\n\\n\\n\\n\\n\\nDesarrollador\\n\\n\\n\\n\\n\\n\\n\\nSalario \\n\\n\\n\\nmensual\\n\\n\\n\\n\\n\\n\\n\\n1.423.500 \\n\\n\\n\\n\\n\\n\\n\\n6 meses\\n\\n\\n\\n\\n\\n\\n\\n8.541.000\\n\\n\\n\\n\\n\\n\\n\\nAsesor \\n\\n\\n\\nUniversidad\\n\\n\\n\\n\\n\\n\\n\\nHonorarios por \\n\\n\\n\\nhora\\n\\n\\n\\n\\n\\n\\n\\n80.000 \\n\\n\\n\\n\\n\\n\\n\\n16 horas\\n\\n\\n\\n\\n\\n\\n\\n1.280.000\\n\\n\\n\\n\\n\\n\\n\\nAsesor Externo\\n\\n\\n\\n\\n\\n\\n\\nHonorarios por \\n\\n\\n\\nhora\\n\\n\\n\\n\\n\\n\\n\\n80.000 \\n\\n\\n\\n\\n\\n\\n\\n40 horas\\n\\n\\n\\n\\n\\n\\n\\n3.200.000\\n\\n\\n\\n\\n\\n\\n\\nSoftware y Licencias\\n\\n\\n\\n\\n\\n\\n\\nLicencia \\n\\n\\n\\nRocketbot On\\n\\n\\n\\nPremise\\n\\n\\n\\n\\n\\n\\n\\nLicencia anual\\n\\n\\n\\n\\n\\n\\n\\n10.356.128,51 \\n\\n\\n\\n(2640 USD)\\n\\n\\n\\n\\n\\n\\n\\n1 año\\n\\n\\n\\n\\n\\n\\n\\n10.356.129 \\n\\n\\n\\n\\n\\n\\n\\nServidor VPS\\n\\n\\n\\n\\n\\n\\n\\nPlan mensual \\n\\n\\n\\nVL2-2 \\n\\n\\n\\n\\n\\n\\n\\n19.040 \\n\\n\\n\\n\\n\\n\\n\\n(4.67 USD)\\n\\n\\n\\n\\n\\n\\n\\n3 meses\\n\\n\\n\\n\\n\\n\\n\\n57.200\\n\\n\\n\\n\\n\\n\\n\\nTOTAL \\n\\n\\n\\nESTIMADO\\n\\n\\n\\n\\n\\n\\n\\n23.434.329\\n\\n\\n\\n\\n\\n\\n\\n\\n\\n\\n\\nReferencias bibliográficas\\n\\n\\n\\n\\n\\n\\n\\n•\\n\\n\\n\\n\\n\\n\\n\\nGarcía Paredes, L. E. (2024). Desarrollo de una API REST para la gestión de \\n\\n\\n\\nusuarios y facturas de la empresa Dislepa S.A.S. (Trabajo de grado). Universidad \\n\\n\\n\\ndel Magdalena, Facultad de Ingeniería, Programa de Ingeniería de Sistemas.\\n\\n\\n\\n\\n\\n\\n\\n•\\n\\n\\n\\n\\n\\n\\n\\nZegarra Arones, F. G., & Valdiviezo Chumbes, F. P. (2024). Sistema de \\n\\n\\n\\nautomatización para el registro y validación de facturas electrónicas en el Perú \\n\\n\\n\\n(Trabajo de suficiencia profesional). Universidad Peruana de Ciencias Aplicadas \\n\\n\\n\\n(UPC), Facultad de Ingeniería, Programa Académico de Ingeniería de Software. \\n\\n\\n\\nhttp://hdl.handle.net/10757/674075 \\n\\n\\n\\n•\\n\\n\\n\\n\\n\\n\\n\\nFernandez, D., & Aman, A. (2018). Impacts of Robotic Process Automation on \\n\\n\\n\\nGlobal Accounting Services. Asian Journal of Accounting and Governance, 1 9, \\n\\n\\n\\n123-131. https://doi.org/10.17576/AJAG-2018-09-11 \\n\\n\\n\\n•\\n\\n\\n\\n\\n\\n\\n\\nIsaksson, S. (2011). Usability Analysis and Redesign Suggestions for a SaaS \\n\\n\\n\\nERP Invoice System (Tesis de maestría). Umeå University, Department of \\n\\n\\n\\nComputing Science. https://www.diva\\n\\n\\n\\nportal.org/smash/get/diva2:455440/FULLTEXT01.pdf \\n\\n\\n\\n•\\n\\n\\n\\n\\n\\n\\n\\nLarsson, A., & Segerås, T. (2016). Automated invoice handling with machine \\n\\n\\n\\nlearning and OCR (Proyecto de grado, KTH The School of Technology and \\n\\n\\n\\nHealth). http://www.diva-portal.org/smash/get/diva2:934351/FULLTEXT01.pdf \\n\\n\\n\\n\\n\\n\\n\\n\\n\\n\\n\\n\\n\\n\\n\\n\\n\\n\\n\\n\\n\\n\\n\\n\\n\\nFacultad de Ingeniería\\n\\n\\n\\n\\n\\n\\n\\nCiudad Universitaria: \\n\\n\\n\\nCalle 67 N\\n\\n\\n\\no. \\n\\n\\n\\n53\\n\\n\\n\\n-\\n\\n\\n\\n108, bloque 21 • \\n\\n\\n\\nDirección de correspondencia: \\n\\n\\n\\nCalle 70 No 52\\n\\n\\n\\n-\\n\\n\\n\\n21\\n\\n\\n\\n\\n\\n\\n\\nTeléfono: \\n\\n\\n\\n219 55 02 • \\n\\n\\n\\nFax: \\n\\n\\n\\n263 82 82 • \\n\\n\\n\\nNit: \\n\\n\\n\\n890.980.040\\n\\n\\n\\n-\\n\\n\\n\\n8 • \\n\\n\\n\\nApartado: \\n\\n\\n\\n1226 \\n\\n\\n\\nhttp://ingenieria.udea.edu.co\\n\\n\\n\\n\\n\\n\\n\\n• Medellín, Colombia\\n\\n\\n\\n\\n\\n\\n\\n\\n\\n\\n\\n•\\n\\n\\n\\n\\n\\n\\n\\nEgberink, J. (2020). \\n\\n\\n\\nOptimizing the processing of purchasing invoices\\n\\n\\n\\n\\n\\n\\n\\n(Tesis de \\n\\n\\n\\ngrado, Universidad de Twente). \\n\\n\\n\\nhttps://essay.utwente.nl/81452/1/Egberink_BA_BMS.pdf\\n\\n\\n\\n\\n\\n\\n\\n•\\n\\n\\n\\n\\n\\n\\n\\nMartínez Suarez, M. C. (2024). Inteligencia Artificial Generativa En Los Procesos \\n\\n\\n\\nDe Facturación y Cartera (Ensayo académico, Universidad Militar Nueva \\n\\n\\n\\nGranada, Facultad de Ciencias Económicas). \\n\\n\\n\\nhttps://repository.unimilitar.edu.co/items/48005e20-561a-4264-aacd\\n\\n\\n\\n5f6094c8ac47\\n\\n\\n\\n\\n\\n\\n\\n\\n\\n\\n\\n\\n\\n\\n\\nVisto bueno del asesor interno y asesor externo\\n\\n\\n\\n\\n\\n\\n\\nComo asesor conozco la propuesta y avalo el contenido de esta.\\n\\n\\n\\n\\n\\n\\n\\n\\n\\n\\n\\n\\n\\n\\n\\nSebsatian Isaza Ramirez\\n\\n\\n\\n\\n\\n\\n\\nNombre del asesor interno Firma del asesor interno \\n\\n\\n\\n\\n\\n\\n\\nC.C. 98669951\\n\\n\\n\\n\\n\\n\\n\\n\\n\\n\\n\\nNicolas Posada\\n\\n\\n\\n\\n\\n\\n\\n\\n\\n\\n\\nNombre del asesor externo Firma del asesor externo \\n\\n\\n\\n\\n\\n\\n\\nC.C. 1.010.193.756\\n\\n\\n\\n\\n\\n\\n\\n\\n\\n\\n\\n\\n\\n\\n\\n\\n\\n\\n\\n')]"
      ]
     },
     "execution_count": 38,
     "metadata": {},
     "output_type": "execute_result"
    }
   ],
   "source": [
    "docs"
   ]
  },
  {
   "cell_type": "code",
   "execution_count": 39,
   "id": "c7e0f946",
   "metadata": {},
   "outputs": [
    {
     "name": "stdout",
     "output_type": "stream",
     "text": [
      "Number of Chunks: 36\n"
     ]
    }
   ],
   "source": [
    "from langchain_community.document_loaders.oracleai import OracleTextSplitter\n",
    "from langchain_core.documents import Document\n",
    "\n",
    "\"\"\"\n",
    "# Some examples\n",
    "# split by chars, max 500 chars\n",
    "splitter_params = {\"split\": \"chars\", \"max\": 500, \"normalize\": \"all\"}\n",
    "\n",
    "# split by words, max 100 words\n",
    "splitter_params = {\"split\": \"words\", \"max\": 100, \"normalize\": \"all\"}\n",
    "\n",
    "# split by sentence, max 20 sentences\n",
    "splitter_params = {\"split\": \"sentence\", \"max\": 20, \"normalize\": \"all\"}\n",
    "\"\"\"\n",
    "\n",
    "# split by default parameters\n",
    "splitter_params = {\"normalize\": \"all\"}\n",
    "\n",
    "# get the splitter instance\n",
    "splitter = OracleTextSplitter(conn=conn, params=splitter_params)\n",
    "\n",
    "list_chunks = []\n",
    "for doc in docs:\n",
    "    chunks = splitter.split_text(doc.page_content)\n",
    "    list_chunks.extend(chunks)\n",
    "\n",
    "\"\"\" verify \"\"\"\n",
    "print(f\"Number of Chunks: {len(list_chunks)}\")\n",
    "# print(f\"Chunk-0: {list_chunks[0]}\") # content"
   ]
  },
  {
   "cell_type": "markdown",
   "id": "1defcf89",
   "metadata": {},
   "source": [
    "## VectorStore"
   ]
  },
  {
   "cell_type": "code",
   "execution_count": null,
   "id": "301489bd",
   "metadata": {},
   "outputs": [
    {
     "name": "stdout",
     "output_type": "stream",
     "text": [
      "Connection successful!\n"
     ]
    }
   ],
   "source": [
    "import sys\n",
    "import os\n",
    "from dotenv import load_dotenv\n",
    "\n",
    "import oracledb\n",
    "\n",
    "load_dotenv()\n",
    "\n",
    "# please update with your username, password, hostname and service_name\n",
    "username = os.getenv(\"DB_USER\")\n",
    "password = os.getenv(\"DB_PASSWORD\")\n",
    "dsn = os.getenv(\"DSN\")\n",
    "\n",
    "try:\n",
    "    connection = oracledb.connect(user=username, password=password, dsn=dsn)\n",
    "    print(\"Connection successful!\")\n",
    "except Exception as e:\n",
    "    print(\"Connection failed!\")\n",
    "    sys.exit(1)"
   ]
  },
  {
   "cell_type": "code",
   "execution_count": 47,
   "id": "6ceabf48",
   "metadata": {},
   "outputs": [],
   "source": [
    "from langchain_community.vectorstores import oraclevs\n",
    "from langchain_community.vectorstores.oraclevs import OracleVS\n",
    "from langchain_community.vectorstores.utils import DistanceStrategy\n",
    "from langchain_core.documents import Document\n",
    "from langchain_community.embeddings import OracleEmbeddings"
   ]
  },
  {
   "cell_type": "code",
   "execution_count": 41,
   "id": "0b6dc616",
   "metadata": {},
   "outputs": [],
   "source": [
    "# Define a list of documents (The examples below are 5 random documents from Oracle Concepts Manual )\n",
    "\n",
    "documents_json_list = [\n",
    "    {\n",
    "        \"id\": \"cncpt_15.5.3.2.2_P4\",\n",
    "        \"text\": \"If the answer to any preceding questions is yes, then the database stops the search and allocates space from the specified tablespace; otherwise, space is allocated from the database default shared temporary tablespace.\",\n",
    "        \"link\": \"https://docs.oracle.com/en/database/oracle/oracle-database/23/cncpt/logical-storage-structures.html#GUID-5387D7B2-C0CA-4C1E-811B-C7EB9B636442\",\n",
    "    },\n",
    "    {\n",
    "        \"id\": \"cncpt_15.5.5_P1\",\n",
    "        \"text\": \"A tablespace can be online (accessible) or offline (not accessible) whenever the database is open.\\nA tablespace is usually online so that its data is available to users. The SYSTEM tablespace and temporary tablespaces cannot be taken offline.\",\n",
    "        \"link\": \"https://docs.oracle.com/en/database/oracle/oracle-database/23/cncpt/logical-storage-structures.html#GUID-D02B2220-E6F5-40D9-AFB5-BC69BCEF6CD4\",\n",
    "    },\n",
    "    {\n",
    "        \"id\": \"cncpt_22.3.4.3.1_P2\",\n",
    "        \"text\": \"The database stores LOBs differently from other data types. Creating a LOB column implicitly creates a LOB segment and a LOB index. The tablespace containing the LOB segment and LOB index, which are always stored together, may be different from the tablespace containing the table.\\nSometimes the database can store small amounts of LOB data in the table itself rather than in a separate LOB segment.\",\n",
    "        \"link\": \"https://docs.oracle.com/en/database/oracle/oracle-database/23/cncpt/concepts-for-database-developers.html#GUID-3C50EAB8-FC39-4BB3-B680-4EACCE49E866\",\n",
    "    },\n",
    "    {\n",
    "        \"id\": \"cncpt_22.3.4.3.1_P3\",\n",
    "        \"text\": \"The LOB segment stores data in pieces called chunks. A chunk is a logically contiguous set of data blocks and is the smallest unit of allocation for a LOB. A row in the table stores a pointer called a LOB locator, which points to the LOB index. When the table is queried, the database uses the LOB index to quickly locate the LOB chunks.\",\n",
    "        \"link\": \"https://docs.oracle.com/en/database/oracle/oracle-database/23/cncpt/concepts-for-database-developers.html#GUID-3C50EAB8-FC39-4BB3-B680-4EACCE49E866\",\n",
    "    },\n",
    "]"
   ]
  },
  {
   "cell_type": "code",
   "execution_count": 43,
   "id": "2c1e11ed",
   "metadata": {},
   "outputs": [],
   "source": [
    "# Create Langchain Documents\n",
    "\n",
    "documents_langchain = []\n",
    "\n",
    "for doc in documents_json_list:\n",
    "    metadata = {\"id\": doc[\"id\"], \"link\": doc[\"link\"]}\n",
    "    doc_langchain = Document(page_content=doc[\"text\"], metadata=metadata)\n",
    "    documents_langchain.append(doc_langchain)"
   ]
  },
  {
   "cell_type": "code",
   "execution_count": null,
   "id": "f8db037c",
   "metadata": {},
   "outputs": [],
   "source": [
    "# Ingest documents into Oracle Vector Store using different distance strategies\n",
    "\n",
    "# When using our API calls, start by initializing your vector store with a subset of your documents\n",
    "# through from_documents(), then incrementally add more documents using add_texts().\n",
    "# This approach prevents system overload and ensures efficient document processing.\n",
    "\n",
    "embedder_params = {\n",
    "    \"provider\": \"database\",\n",
    "    \"model\": \"ALL_MINILM_L12_V2\"\n",
    "}\n",
    "\n",
    "embeddings = OracleEmbeddings(\n",
    "    conn=connection,         # tu conexión oracledb\n",
    "    params=embedder_params,  # parámetros del modelo\n",
    "    proxy=None               # opcional, si usas proxy HTTP\n",
    ")\n",
    "vector_store_dot = OracleVS.from_documents(\n",
    "    documents_langchain,\n",
    "    embeddings,\n",
    "    client=connection,\n",
    "    table_name=\"Documents_DOT\",\n",
    "    distance_strategy=DistanceStrategy.DOT_PRODUCT,\n",
    ")\n",
    "vector_store_max = OracleVS.from_documents(\n",
    "    documents_langchain,\n",
    "    embeddings,\n",
    "    client=connection,\n",
    "    table_name=\"Documents_COSINE\",\n",
    "    distance_strategy=DistanceStrategy.COSINE,\n",
    ")\n",
    "vector_store_euclidean = OracleVS.from_documents(\n",
    "    documents_langchain,\n",
    "    embeddings,\n",
    "    client=connection,\n",
    "    table_name=\"Documents_EUCLIDEAN\",\n",
    "    distance_strategy=DistanceStrategy.EUCLIDEAN_DISTANCE,\n",
    ")\n",
    "\n",
    "# Ingest documents into Oracle Vector Store using different distance strategies\n",
    "vector_store_dot_ivf = OracleVS.from_documents(\n",
    "    documents_langchain,\n",
    "    embeddings,\n",
    "    client=connection,\n",
    "    table_name=\"Documents_DOT_IVF\",\n",
    "    distance_strategy=DistanceStrategy.DOT_PRODUCT,\n",
    ")\n",
    "vector_store_max_ivf = OracleVS.from_documents(\n",
    "    documents_langchain,\n",
    "    embeddings,\n",
    "    client=connection,\n",
    "    table_name=\"Documents_COSINE_IVF\",\n",
    "    distance_strategy=DistanceStrategy.COSINE,\n",
    ")\n",
    "vector_store_euclidean_ivf = OracleVS.from_documents(\n",
    "    documents_langchain,\n",
    "    embeddings,\n",
    "    client=connection,\n",
    "    table_name=\"Documents_EUCLIDEAN_IVF\",\n",
    "    distance_strategy=DistanceStrategy.EUCLIDEAN_DISTANCE,\n",
    ")\n"
   ]
  },
  {
   "cell_type": "code",
   "execution_count": null,
   "id": "3866e8c2",
   "metadata": {},
   "outputs": [
    {
     "ename": "NameError",
     "evalue": "name 'vector_store_dot' is not defined",
     "output_type": "error",
     "traceback": [
      "\u001b[31m---------------------------------------------------------------------------\u001b[39m",
      "\u001b[31mNameError\u001b[39m                                 Traceback (most recent call last)",
      "\u001b[36mCell\u001b[39m\u001b[36m \u001b[39m\u001b[32mIn[1]\u001b[39m\u001b[32m, line 51\u001b[39m\n\u001b[32m     47\u001b[39m         gc.collect()\n\u001b[32m     49\u001b[39m \u001b[38;5;66;03m# Llamada optimizada: procesa uno a uno\u001b[39;00m\n\u001b[32m     50\u001b[39m vector_store_list = [\n\u001b[32m---> \u001b[39m\u001b[32m51\u001b[39m     \u001b[43mvector_store_dot\u001b[49m,\n\u001b[32m     52\u001b[39m     vector_store_max,\n\u001b[32m     53\u001b[39m     vector_store_euclidean,\n\u001b[32m     54\u001b[39m     vector_store_dot_ivf,\n\u001b[32m     55\u001b[39m     vector_store_max_ivf,\n\u001b[32m     56\u001b[39m     vector_store_euclidean_ivf\n\u001b[32m     57\u001b[39m ]\n\u001b[32m     59\u001b[39m conduct_advanced_searches_optimized(vector_store_list)\n",
      "\u001b[31mNameError\u001b[39m: name 'vector_store_dot' is not defined"
     ]
    }
   ],
   "source": [
    "import gc\n",
    "\n",
    "def conduct_advanced_searches_optimized(vector_stores):\n",
    "    query = \"How are LOBS stored in Oracle Database\"\n",
    "    filter_criteria = {\n",
    "    \"id\": [\"cncpt_22.3.4.3.1_P2\"],\n",
    "}  # Filtro exacto por metadata\n",
    "\n",
    "    for i, vs in enumerate(vector_stores, start=1):\n",
    "        print(f\"\\n--- Vector Store {i} Advanced Searches ---\")\n",
    "\n",
    "        # Similarity search sin filtro\n",
    "        print(\"\\nSimilarity search results without filter:\")\n",
    "        results_no_filter = vs.similarity_search(query, 2)\n",
    "        print([doc.metadata for doc in results_no_filter])\n",
    "\n",
    "        # Similarity search con filtro\n",
    "        print(\"\\nSimilarity search results with filter:\")\n",
    "        results_filter = vs.similarity_search(query, 2, filter=filter_criteria)\n",
    "        print([doc.metadata for doc in results_filter])\n",
    "\n",
    "        # Similarity search con score (solo metadatos para ahorrar memoria)\n",
    "        print(\"\\nSimilarity search with relevance score:\")\n",
    "        results_score = vs.similarity_search_with_score(query, 2)\n",
    "        print([(doc.metadata, score) for doc, score in results_score])\n",
    "\n",
    "        # Similarity search con score y filtro\n",
    "        print(\"\\nSimilarity search with relevance score with filter:\")\n",
    "        results_score_filter = vs.similarity_search_with_score(query, 2, filter=filter_criteria)\n",
    "        print([(doc.metadata, score) for doc, score in results_score_filter])\n",
    "\n",
    "        # MMR search reducido (menos fetch_k para menos carga)\n",
    "        print(\"\\nMax marginal relevance search results:\")\n",
    "        results_mmr = vs.max_marginal_relevance_search(query, 2, fetch_k=5, lambda_mult=0.5)\n",
    "        print([doc.metadata for doc in results_mmr])\n",
    "\n",
    "        # MMR con filtro\n",
    "        print(\"\\nMax marginal relevance search results with filter:\")\n",
    "        results_mmr_filter = vs.max_marginal_relevance_search(\n",
    "            query, 2, fetch_k=5, lambda_mult=0.5, filter=filter_criteria\n",
    "        )\n",
    "        print([doc.metadata for doc in results_mmr_filter])\n",
    "\n",
    "        # Limpieza para liberar memoria antes de pasar al siguiente vector store\n",
    "        del results_no_filter, results_filter, results_score, results_score_filter\n",
    "        del results_mmr, results_mmr_filter\n",
    "        gc.collect()\n",
    "\n",
    "# Llamada optimizada: procesa uno a uno\n",
    "vector_store_list = [\n",
    "    vector_store_dot,\n",
    "    vector_store_max,\n",
    "    vector_store_euclidean,\n",
    "    vector_store_dot_ivf,\n",
    "    vector_store_max_ivf,\n",
    "    vector_store_euclidean_ivf\n",
    "]\n",
    "\n",
    "conduct_advanced_searches_optimized(vector_store_list)\n",
    "\n"
   ]
  }
 ],
 "metadata": {
  "kernelspec": {
   "display_name": ".venv",
   "language": "python",
   "name": "python3"
  },
  "language_info": {
   "codemirror_mode": {
    "name": "ipython",
    "version": 3
   },
   "file_extension": ".py",
   "mimetype": "text/x-python",
   "name": "python",
   "nbconvert_exporter": "python",
   "pygments_lexer": "ipython3",
   "version": "3.13.1"
  }
 },
 "nbformat": 4,
 "nbformat_minor": 5
}
